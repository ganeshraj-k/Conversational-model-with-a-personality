{
 "cells": [
  {
   "cell_type": "code",
   "execution_count": 5,
   "id": "a9fce793",
   "metadata": {
    "scrolled": true
   },
   "outputs": [],
   "source": [
    "from transformers import pipeline, set_seed\n",
    "generator = pipeline('text-generation', model='gpt2')\n",
    "set_seed(42)"
   ]
  },
  {
   "cell_type": "code",
   "execution_count": 4,
   "id": "71960c87",
   "metadata": {
    "scrolled": true
   },
   "outputs": [
    {
     "data": {
      "application/vnd.jupyter.widget-view+json": {
       "model_id": "9e4a58067fbe420aa93adc6a1dbde897",
       "version_major": 2,
       "version_minor": 0
      },
      "text/plain": [
       "config.json:   0%|          | 0.00/1.57k [00:00<?, ?B/s]"
      ]
     },
     "metadata": {},
     "output_type": "display_data"
    },
    {
     "name": "stderr",
     "output_type": "stream",
     "text": [
      "C:\\Users\\ganes\\anaconda3\\lib\\site-packages\\huggingface_hub\\file_download.py:147: UserWarning: `huggingface_hub` cache-system uses symlinks by default to efficiently store duplicated files but your machine does not support them in C:\\Users\\ganes\\.cache\\huggingface\\hub. Caching files will still work but in a degraded version that might require more space on your disk. This warning can be disabled by setting the `HF_HUB_DISABLE_SYMLINKS_WARNING` environment variable. For more details, see https://huggingface.co/docs/huggingface_hub/how-to-cache#limitations.\n",
      "To support symlinks on Windows, you either need to activate Developer Mode or to run Python as an administrator. In order to see activate developer mode, see this article: https://docs.microsoft.com/en-us/windows/apps/get-started/enable-your-device-for-development\n",
      "  warnings.warn(message)\n"
     ]
    },
    {
     "data": {
      "application/vnd.jupyter.widget-view+json": {
       "model_id": "754ad934c0d84c819265062a90b52a40",
       "version_major": 2,
       "version_minor": 0
      },
      "text/plain": [
       "pytorch_model.bin:   0%|          | 0.00/730M [00:00<?, ?B/s]"
      ]
     },
     "metadata": {},
     "output_type": "display_data"
    },
    {
     "data": {
      "application/vnd.jupyter.widget-view+json": {
       "model_id": "c70ca260de8d4d9ea53f07dce727245a",
       "version_major": 2,
       "version_minor": 0
      },
      "text/plain": [
       "generation_config.json:   0%|          | 0.00/347 [00:00<?, ?B/s]"
      ]
     },
     "metadata": {},
     "output_type": "display_data"
    },
    {
     "data": {
      "application/vnd.jupyter.widget-view+json": {
       "model_id": "4391ce85f5bf4d2b8a195be670e400bb",
       "version_major": 2,
       "version_minor": 0
      },
      "text/plain": [
       "tokenizer_config.json:   0%|          | 0.00/1.15k [00:00<?, ?B/s]"
      ]
     },
     "metadata": {},
     "output_type": "display_data"
    },
    {
     "data": {
      "application/vnd.jupyter.widget-view+json": {
       "model_id": "736e2c82dee24661a8c26732bd5913aa",
       "version_major": 2,
       "version_minor": 0
      },
      "text/plain": [
       "vocab.json:   0%|          | 0.00/127k [00:00<?, ?B/s]"
      ]
     },
     "metadata": {},
     "output_type": "display_data"
    },
    {
     "data": {
      "application/vnd.jupyter.widget-view+json": {
       "model_id": "2f7388d18c3c421bb58ad22ae66346ea",
       "version_major": 2,
       "version_minor": 0
      },
      "text/plain": [
       "merges.txt:   0%|          | 0.00/62.9k [00:00<?, ?B/s]"
      ]
     },
     "metadata": {},
     "output_type": "display_data"
    },
    {
     "data": {
      "application/vnd.jupyter.widget-view+json": {
       "model_id": "80c6f40f1bce46dbbcf874201c1493dc",
       "version_major": 2,
       "version_minor": 0
      },
      "text/plain": [
       "added_tokens.json:   0%|          | 0.00/16.0 [00:00<?, ?B/s]"
      ]
     },
     "metadata": {},
     "output_type": "display_data"
    },
    {
     "data": {
      "application/vnd.jupyter.widget-view+json": {
       "model_id": "962855682587429986067bf9cc058286",
       "version_major": 2,
       "version_minor": 0
      },
      "text/plain": [
       "special_tokens_map.json:   0%|          | 0.00/772 [00:00<?, ?B/s]"
      ]
     },
     "metadata": {},
     "output_type": "display_data"
    },
    {
     "data": {
      "application/vnd.jupyter.widget-view+json": {
       "model_id": "f38f42a3508b41d3b97a4f5aa1bf7752",
       "version_major": 2,
       "version_minor": 0
      },
      "text/plain": [
       "tokenizer.json:   0%|          | 0.00/310k [00:00<?, ?B/s]"
      ]
     },
     "metadata": {},
     "output_type": "display_data"
    }
   ],
   "source": [
    "from transformers import pipeline\n",
    "\n",
    "pipe = pipeline(\"conversational\", model=\"facebook/blenderbot-400M-distill\")\n",
    "\n",
    "# Load model directly\n",
    "from transformers import AutoTokenizer, AutoModelForSeq2SeqLM\n",
    "\n",
    "tokenizer = AutoTokenizer.from_pretrained(\"facebook/blenderbot-400M-distill\")\n",
    "model = AutoModelForSeq2SeqLM.from_pretrained(\"facebook/blenderbot-400M-distill\")"
   ]
  },
  {
   "cell_type": "code",
   "execution_count": 44,
   "id": "5d0bc2ab",
   "metadata": {},
   "outputs": [],
   "source": [
    "lines = [\n",
    "    \"ross, rachel, monica, chandler, phoebe, Joey were in the hit TV show F.R.I.E.N.D.S\",\n",
    "    \n",
    "    \"so no one told you life was gonna be\", \n",
    "    \"Ross, Monica, Joey and chandler are having a coffee at central perk. Ross says I just want to be married again and rachel walks in wearing a wedding dress. Chandler says\",\n",
    "    \"Joey tribbiani gets locked in his own closet because of his stupidity, when chandler comes home to discover they have been robbed he\",\n",
    "    \"chandler bing from F.R.I.E.N.D.S loves the basketball team\",\n",
    "    \"Joey missed his audition because of chandler bing's negligence. Chandler apologised by saying\"\n",
    "]"
   ]
  },
  {
   "cell_type": "code",
   "execution_count": 38,
   "id": "38ba66fd",
   "metadata": {},
   "outputs": [],
   "source": [
    "UTTERANCE = \"Joey tribbiani gets locked in his own closet because of his stupidity, when chandler comes home to discover they have been robbed he says\""
   ]
  },
  {
   "cell_type": "code",
   "execution_count": 33,
   "id": "c913fe57",
   "metadata": {},
   "outputs": [
    {
     "name": "stdout",
     "output_type": "stream",
     "text": [
      "[\"<s> Wow, I didn't know that. I love Ross. He was born in 1943.</s>\"]\n"
     ]
    }
   ],
   "source": [
    "    \n",
    "inputs = tokenizer([UTTERANCE], return_tensors=\"pt\")\n",
    "reply_ids = model.generate(**inputs)\n",
    "print(tokenizer.batch_decode(reply_ids))"
   ]
  },
  {
   "cell_type": "code",
   "execution_count": 40,
   "id": "8ccbb73d",
   "metadata": {},
   "outputs": [
    {
     "name": "stderr",
     "output_type": "stream",
     "text": [
      "Setting `pad_token_id` to `eos_token_id`:50256 for open-end generation.\n"
     ]
    },
    {
     "data": {
      "text/plain": [
       "[{'generated_text': 'Joey tribbiani gets locked in his own closet because of his stupidity, when chandler comes home to discover they have been robbed he says \"how about that\" and makes a scene with a police officer. After some more conversation about what to do about it, the officers go to take the young man back to the dorm room, where she tells them how horrible they are and that they were the only ones that had not been involved with the murder. They immediately break down, telling her there is no way they are responsible for taking him out of the neighborhood. The officers then explain how a gang of thieves have gotten rid of the man, but what they saw that night the next morning made their way back to her dorm, where she had been told the man was dead for about ten minutes. They then make what must\\'ve been a hard-to-recall scene, telling her there was more than one man, and in her mind she couldn\\'t believe it. Then another person goes in the room in full view of her, saying they\\'ve killed him and that he is a serial killer. She says they are too scared to do much about it, and they don\\'t want to see more than one person get hurt. She'}]"
      ]
     },
     "execution_count": 40,
     "metadata": {},
     "output_type": "execute_result"
    }
   ],
   "source": [
    "generator(UTTERANCE, max_length=250, num_return_sequences=1)"
   ]
  },
  {
   "cell_type": "code",
   "execution_count": 45,
   "id": "343a1614",
   "metadata": {},
   "outputs": [
    {
     "name": "stdout",
     "output_type": "stream",
     "text": [
      "\n",
      "\n",
      "\n",
      "TEXT PROMPT ross, rachel, monica, chandler, phoebe, Joey were in the hit TV show F.R.I.E.N.D.S\n",
      " ***********BLENDERBOT output************\n"
     ]
    },
    {
     "name": "stderr",
     "output_type": "stream",
     "text": [
      "Setting `pad_token_id` to `eos_token_id`:50256 for open-end generation.\n"
     ]
    },
    {
     "name": "stdout",
     "output_type": "stream",
     "text": [
      "[\"<s> Wow, I didn't know that.  Ross was my favorite character on that show.</s>\"]\n",
      "************GPT2 output****************\n",
      "[{'generated_text': \"ross, rachel, monica, chandler, phoebe, Joey were in the hit TV show F.R.I.E.N.D.S. - they've been in a million episodes since 2008.\\n\\n\\n\"}]\n",
      "\n",
      "\n",
      "\n",
      "TEXT PROMPT so no one told you life was gonna be\n",
      " ***********BLENDERBOT output************\n"
     ]
    },
    {
     "name": "stderr",
     "output_type": "stream",
     "text": [
      "Setting `pad_token_id` to `eos_token_id`:50256 for open-end generation.\n"
     ]
    },
    {
     "name": "stdout",
     "output_type": "stream",
     "text": [
      "[\"<s> I didn't think so, but I guess I was wrong. I was so disappointed in myself.</s>\"]\n",
      "************GPT2 output****************\n",
      "[{'generated_text': 'so no one told you life was gonna be the same every day as they\\'re now,\" said one former member. \"And all I can tell you is that one time last week, [David] told me, \\'You should have told me this'}]\n",
      "\n",
      "\n",
      "\n",
      "TEXT PROMPT Ross, Monica, Joey and chandler are having a coffee at central perk. Ross says I just want to be married again and rachel walks in wearing a wedding dress. Chandler says\n",
      " ***********BLENDERBOT output************\n"
     ]
    },
    {
     "name": "stderr",
     "output_type": "stream",
     "text": [
      "Setting `pad_token_id` to `eos_token_id`:50256 for open-end generation.\n"
     ]
    },
    {
     "name": "stdout",
     "output_type": "stream",
     "text": [
      "[\"<s> I love Ross! He's such a great character. I wish I could dress up like him.</s>\"]\n",
      "************GPT2 output****************\n",
      "[{'generated_text': \"Ross, Monica, Joey and chandler are having a coffee at central perk. Ross says I just want to be married again and rachel walks in wearing a wedding dress. Chandler says he's not even sure how the divorce should be handled.\"}]\n",
      "\n",
      "\n",
      "\n",
      "TEXT PROMPT Joey tribbiani gets locked in his own closet because of his stupidity, when chandler comes home to discover they have been robbed he\n",
      " ***********BLENDERBOT output************\n"
     ]
    },
    {
     "name": "stderr",
     "output_type": "stream",
     "text": [
      "Setting `pad_token_id` to `eos_token_id`:50256 for open-end generation.\n"
     ]
    },
    {
     "name": "stdout",
     "output_type": "stream",
     "text": [
      "['<s> Joey Tribiani is an American singer, songwriter, and actor.</s>']\n",
      "************GPT2 output****************\n",
      "[{'generated_text': 'Joey tribbiani gets locked in his own closet because of his stupidity, when chandler comes home to discover they have been robbed he gets mad enough to turn his back on Chantal and run around the house to see who he can'}]\n",
      "\n",
      "\n",
      "\n",
      "TEXT PROMPT chandler bing from F.R.I.E.N.D.S loves the basketball team\n",
      " ***********BLENDERBOT output************\n"
     ]
    },
    {
     "name": "stderr",
     "output_type": "stream",
     "text": [
      "Setting `pad_token_id` to `eos_token_id`:50256 for open-end generation.\n"
     ]
    },
    {
     "name": "stdout",
     "output_type": "stream",
     "text": [
      "['<s> Chandler Bing is an American professional basketball player for the Miami Heat.</s>']\n",
      "************GPT2 output****************\n",
      "[{'generated_text': 'chandler bing from F.R.I.E.N.D.S loves the basketball team, but doesn\\'t think this team can be good this way.\\n\\n\"Why can\\'t I just let this game go?\" asked'}]\n",
      "\n",
      "\n",
      "\n",
      "TEXT PROMPT Joey missed his audition because of chandler bing's negligence. Chandler apologised by saying\n",
      " ***********BLENDERBOT output************\n"
     ]
    },
    {
     "name": "stderr",
     "output_type": "stream",
     "text": [
      "Setting `pad_token_id` to `eos_token_id`:50256 for open-end generation.\n"
     ]
    },
    {
     "name": "stdout",
     "output_type": "stream",
     "text": [
      "[\"<s> Oh wow, I didn't know that. That must have been really disappointing for him.</s>\"]\n",
      "************GPT2 output****************\n",
      "[{'generated_text': \"Joey missed his audition because of chandler bing's negligence. Chandler apologised by saying the man responsible didn't notice him after the accident. Chandler's lawyer said the men would only meet again for another six weeks, but a jury decided not\"}]\n"
     ]
    }
   ],
   "source": [
    "for line in lines:\n",
    "    print(\"\\n\\n\")\n",
    "    print(\"TEXT PROMPT\", line)\n",
    "    \n",
    "    print(\" ***********BLENDERBOT output************\")\n",
    "    inputs = tokenizer([line], return_tensors=\"pt\")\n",
    "    reply_ids = model.generate(**inputs)\n",
    "    print(tokenizer.batch_decode(reply_ids))\n",
    "    print(\"************GPT2 output****************\")\n",
    "    print(generator(line, max_length=50, num_return_sequences=1))\n",
    "    \n",
    "    "
   ]
  },
  {
   "cell_type": "code",
   "execution_count": 2,
   "id": "a8dd07cb",
   "metadata": {},
   "outputs": [
    {
     "name": "stderr",
     "output_type": "stream",
     "text": [
      "C:\\Users\\ganes\\anaconda3\\lib\\site-packages\\pandas\\core\\computation\\expressions.py:21: UserWarning: Pandas requires version '2.8.0' or newer of 'numexpr' (version '2.7.3' currently installed).\n",
      "  from pandas.core.computation.check import NUMEXPR_INSTALLED\n"
     ]
    },
    {
     "name": "stdout",
     "output_type": "stream",
     "text": [
      "Dataset already exists at C:\\Users\\ganes\\.convokit\\downloads\\friends-corpus\n"
     ]
    }
   ],
   "source": [
    "from convokit import Corpus, download\n",
    "corpus = Corpus(filename=download(\"friends-corpus\"))"
   ]
  },
  {
   "cell_type": "code",
   "execution_count": 3,
   "id": "3421f469",
   "metadata": {},
   "outputs": [
    {
     "data": {
      "text/plain": [
       "<convokit.model.corpus.Corpus at 0x1ac73b19dc0>"
      ]
     },
     "execution_count": 3,
     "metadata": {},
     "output_type": "execute_result"
    }
   ],
   "source": []
  }
 ],
 "metadata": {
  "kernelspec": {
   "display_name": "Python 3 (ipykernel)",
   "language": "python",
   "name": "python3"
  },
  "language_info": {
   "codemirror_mode": {
    "name": "ipython",
    "version": 3
   },
   "file_extension": ".py",
   "mimetype": "text/x-python",
   "name": "python",
   "nbconvert_exporter": "python",
   "pygments_lexer": "ipython3",
   "version": "3.9.18"
  }
 },
 "nbformat": 4,
 "nbformat_minor": 5
}
